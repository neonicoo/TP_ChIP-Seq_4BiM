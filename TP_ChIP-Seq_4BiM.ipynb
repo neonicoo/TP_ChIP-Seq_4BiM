{
 "cells": [
  {
   "cell_type": "code",
   "execution_count": 1,
   "metadata": {},
   "outputs": [],
   "source": [
    "import pandas as pds\n",
    "import numpy as np\n",
    "import matplotlib.pyplot as plt"
   ]
  },
  {
   "cell_type": "markdown",
   "metadata": {},
   "source": [
    "Nous allons nous intéresser à une NAP entérobactérienne aux rôles divers et variés :\n",
    "Fis (Factor for Inversion Stimulation). En tant que protéine architecturale, Fis module\n",
    "d’une part la topologie de l’ADN de manière directe et indirecte. Fis agit d’autre part\n",
    "comme un régulateur global de l’expression des gènes en se ﬁxant de manière as-\n",
    "péciﬁque sur le génome, avec une préférence pour les régions AT riches."
   ]
  },
  {
   "cell_type": "markdown",
   "metadata": {},
   "source": [
    "Nous allons partir directement des données de couverture (i.e. nombre de reads\n",
    "par position génomique) issues d’un séquençage single-end après contrôle qualité et\n",
    "alignement. Les auteurs ont choisir de retenir les reads pour lesquels l’alignement avec\n",
    "la séquence de référence était unique, ne présentait pas de gap et moins de 2 mis-\n",
    "matches. Chaque alignement a été étendu jusqu’à 200 pb du côté 3’, taille moyenne\n",
    "des fragments d’ADN dans l’expérience."
   ]
  },
  {
   "cell_type": "markdown",
   "metadata": {},
   "source": [
    "Nous allons analyser ces données et comparer les résultats obtenus (proﬁl de ﬁxa-\n",
    "tion de Fis) à ceux publiés dans l’article."
   ]
  },
  {
   "cell_type": "markdown",
   "metadata": {},
   "source": [
    "### Fonction de lissage et réduction à moyenne glissante"
   ]
  },
  {
   "cell_type": "code",
   "execution_count": null,
   "metadata": {},
   "outputs": [],
   "source": [
    "def lissage_reduction(x,y,p):\n",
    "    '''Lissage et réduction par moyenne glissante sur 2p+1 points'''\n",
    "    xout = np.empty(0) ; yout = np.empty(0)\n",
    "    for index in range(p, len(y)-p+1, p):\n",
    "        xout = np.append(xout,np.mean(x[index-p : index+p+1]))\n",
    "        yout = np.append(yout,np.mean(y[index-p : index+p+1]))\n",
    "    return xout,yout"
   ]
  },
  {
   "cell_type": "markdown",
   "metadata": {},
   "source": [
    " ### Fonction de chargement d'une séquence fasta"
   ]
  },
  {
   "cell_type": "code",
   "execution_count": null,
   "metadata": {},
   "outputs": [],
   "source": [
    "def load_fasta_seq(filename):\n",
    "    ''' Chargement sequence genomique a partir d'un fichier fasta'''\n",
    "    seq = str()\n",
    "    my_file = open(filename, \"r\") # ouverture fichier fasta\n",
    "    for i in my_file.readlines(): # parcourt chaque ligne du fichier\n",
    "        line=i.strip() # supprrime les retours à la ligne\n",
    "        if line != '': #si la ligne n'est pas vide\n",
    "            if line[0]!=\">\": #et si la ligne n'est pas un entete (les entêtes débutent par >)\n",
    "                seq+=line\n",
    "    my_file.close()\n",
    "    return seq"
   ]
  },
  {
   "cell_type": "markdown",
   "metadata": {},
   "source": [
    "#### Fonction de calcul du %GC"
   ]
  },
  {
   "cell_type": "code",
   "execution_count": null,
   "metadata": {},
   "outputs": [],
   "source": [
    "def GC_content(seq, window=5000):\n",
    "    ''' Calcul du taux de GC le long du genome '''\n",
    "    x = [] ; GC = [] # x coordonnees des fenetres\n",
    "    for i in range(0,len(seq), window//2):\n",
    "        s = seq[i: i+window]  \n",
    "        g = s.count('G') + s.count('g') # nb de G\n",
    "        c = s.count('C') + s.count('c') # nb de C\n",
    "        GC.append(float(g+c)/len(s))\n",
    "        x.append(i+1) # coordonnee debut fenetre\n",
    "    return x,GC"
   ]
  },
  {
   "cell_type": "code",
   "execution_count": null,
   "metadata": {},
   "outputs": [],
   "source": []
  },
  {
   "cell_type": "code",
   "execution_count": null,
   "metadata": {},
   "outputs": [],
   "source": []
  }
 ],
 "metadata": {
  "kernelspec": {
   "display_name": "Python 3",
   "language": "python",
   "name": "python3"
  },
  "language_info": {
   "codemirror_mode": {
    "name": "ipython",
    "version": 3
   },
   "file_extension": ".py",
   "mimetype": "text/x-python",
   "name": "python",
   "nbconvert_exporter": "python",
   "pygments_lexer": "ipython3",
   "version": "3.8.5"
  }
 },
 "nbformat": 4,
 "nbformat_minor": 4
}
